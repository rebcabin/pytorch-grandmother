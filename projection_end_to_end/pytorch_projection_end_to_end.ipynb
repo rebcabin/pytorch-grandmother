{
 "cells": [
  {
   "cell_type": "code",
   "execution_count": 1,
   "id": "d2e248bd-274a-43d6-b2d3-ef0a438fbc17",
   "metadata": {
    "ExecuteTime": {
     "end_time": "2023-10-29T22:55:17.016297Z",
     "start_time": "2023-10-29T22:55:16.959801Z"
    }
   },
   "outputs": [],
   "source": [
    "#\n",
    "# notebook config\n",
    "#\n",
    "\n",
    "# dataset generation\n",
    "DIM_FROM    = 3\n",
    "DIM_TO      = 2\n",
    "REM_DIM     = 1\n",
    "TOTAL_VECS  = 10000\n",
    "SPLITS      = [ 0.8, 0.2, 0.2 ]\n",
    "\n",
    "# training parameters\n",
    "BATCH_SIZE  = 20\n",
    "LEARNING_RATE = 1.0\n",
    "GAMMA       =0.7\n",
    "MAX_EPOCHS  = 10\n",
    "\n",
    "# random seed for reproducibility\n",
    "SEED        = 42\n",
    "\n",
    "# architecture search experiment results (optional)\n",
    "CSV = \"data/projection_architecture_search.csv\" "
   ]
  },
  {
   "cell_type": "code",
   "execution_count": 2,
   "id": "3d7a7846-ca72-4513-8229-496871738a36",
   "metadata": {
    "ExecuteTime": {
     "end_time": "2023-10-29T22:55:18.321054Z",
     "start_time": "2023-10-29T22:55:16.964801Z"
    }
   },
   "outputs": [],
   "source": [
    "#\n",
    "# imports\n",
    "#\n",
    "import numpy as np\n",
    "import pandas as pd\n",
    "import matplotlib.pyplot as plt\n",
    "from sklearn.model_selection import train_test_split\n",
    "import torch\n",
    "import torch.nn as nn\n",
    "import torch.nn.functional as F\n",
    "from torch.utils.data import TensorDataset, DataLoader\n",
    "import torch.optim as optim\n",
    "from torchvision import datasets, transforms\n",
    "from torch.optim.lr_scheduler import StepLR\n",
    "from torchsummary import summary\n",
    "\n"
   ]
  },
  {
   "cell_type": "code",
   "execution_count": 3,
   "id": "8c50b588-8adc-4707-9766-46573bc179a1",
   "metadata": {
    "ExecuteTime": {
     "end_time": "2023-10-29T22:55:18.323797Z",
     "start_time": "2023-10-29T22:55:18.321376Z"
    }
   },
   "outputs": [
    {
     "name": "stdout",
     "output_type": "stream",
     "text": [
      "Checking pytorch version...\n",
      "Pytorch version at 2.0.0 is ok. \n"
     ]
    }
   ],
   "source": [
    "#\n",
    "# require some package versions going forward\n",
    "#\n",
    "print(\"Checking pytorch version...\")\n",
    "if int(torch.version.__version__.split('.')[0])==2:\n",
    "    print(\"Pytorch version at %s is ok. \" % torch.version.__version__)\n",
    "else:\n",
    "    raise Exception(\"Pytorch version check failed.\")"
   ]
  },
  {
   "cell_type": "code",
   "execution_count": 4,
   "id": "5f8646e9-7682-41bb-ba0c-84f0c7df6d5a",
   "metadata": {
    "ExecuteTime": {
     "end_time": "2023-10-29T22:55:18.327475Z",
     "start_time": "2023-10-29T22:55:18.324430Z"
    }
   },
   "outputs": [],
   "source": [
    "# \n",
    "# define a simple linear model\n",
    "#\n",
    "class Linear1(nn.Module):\n",
    "    '''Define a 1-layer neural network, no drop out, no activation'''\n",
    "    def __init__(self):\n",
    "        super(Linear1, self).__init__()\n",
    "        self.fc = nn.Linear(DIM_FROM, DIM_TO)\n",
    "    def forward(self, x):\n",
    "        output = self.fc(x)\n",
    "        return output\n"
   ]
  },
  {
   "cell_type": "code",
   "execution_count": 5,
   "id": "771f7288-8204-4011-abc6-c5e54c9a1e90",
   "metadata": {
    "ExecuteTime": {
     "end_time": "2023-10-29T22:55:18.343559Z",
     "start_time": "2023-10-29T22:55:18.329116Z"
    }
   },
   "outputs": [
    {
     "name": "stdout",
     "output_type": "stream",
     "text": [
      "dataset sanity check...\n",
      "(10000, 3) float64 float64\n",
      "(10000, 2) float64 float64\n",
      "[0.76492766 0.00994853 0.32035357] [0.76492766 0.32035357]\n",
      "[0.28006788 0.70961775 0.0098974 ] [0.28006788 0.0098974 ]\n"
     ]
    }
   ],
   "source": [
    "#\n",
    "# create a numpy dataset\n",
    "#\n",
    "dset_in = np.random.rand( TOTAL_VECS, DIM_FROM )\n",
    "dset_out = np.array( [ np.array( list(el[0:REM_DIM]) + list(el[REM_DIM+1:]) ) for el in dset_in ] )\n",
    "# sanity check\n",
    "print(\"dataset sanity check...\")\n",
    "print(dset_in.shape, dset_in.dtype, dset_in[0].dtype)\n",
    "print(dset_out.shape, dset_out.dtype, dset_out[0].dtype)\n",
    "print(dset_in[0], dset_out[0])\n",
    "print(dset_in[-1], dset_out[-1])\n",
    "\n"
   ]
  },
  {
   "cell_type": "code",
   "execution_count": 6,
   "id": "88ffbc9f-543c-41b4-a15a-ea81c3867c3f",
   "metadata": {
    "ExecuteTime": {
     "end_time": "2023-10-29T22:55:18.349202Z",
     "start_time": "2023-10-29T22:55:18.344140Z"
    }
   },
   "outputs": [
    {
     "name": "stdout",
     "output_type": "stream",
     "text": [
      "tr/val/test split sanity check: (6000, 3) (2000, 3) (2000, 3)\n"
     ]
    }
   ],
   "source": [
    "#\n",
    "# use scikit for splitting into training/validation/test\n",
    "#\n",
    "x_train, x_test, y_train, y_test = train_test_split(dset_in, dset_out, test_size=SPLITS[1]+SPLITS[2])\n",
    "x_test, x_val, y_test, y_val = train_test_split(x_test, y_test, test_size=SPLITS[2]/(SPLITS[1]+SPLITS[2]))\n",
    "# sanity check\n",
    "print(\"tr/val/test split sanity check:\", x_train.shape, x_val.shape, x_test.shape)\n"
   ]
  },
  {
   "cell_type": "code",
   "execution_count": 7,
   "id": "05df82b4-1939-4f8b-8335-e0e46b1c7bb8",
   "metadata": {
    "ExecuteTime": {
     "end_time": "2023-10-29T22:55:18.353379Z",
     "start_time": "2023-10-29T22:55:18.348347Z"
    }
   },
   "outputs": [
    {
     "name": "stdout",
     "output_type": "stream",
     "text": [
      "model topology:\n",
      "Linear1(\n",
      "  (fc): Linear(in_features=3, out_features=2, bias=True)\n",
      ")\n",
      "\n",
      "model details:\n",
      "----------------------------------------------------------------\n",
      "        Layer (type)               Output Shape         Param #\n",
      "================================================================\n",
      "            Linear-1                 [-1, 1, 2]               8\n",
      "================================================================\n",
      "Total params: 8\n",
      "Trainable params: 8\n",
      "Non-trainable params: 0\n",
      "----------------------------------------------------------------\n",
      "Input size (MB): 0.00\n",
      "Forward/backward pass size (MB): 0.00\n",
      "Params size (MB): 0.00\n",
      "Estimated Total Size (MB): 0.00\n",
      "----------------------------------------------------------------\n"
     ]
    }
   ],
   "source": [
    "#\n",
    "# create model and summarize\n",
    "#\n",
    "\n",
    "model = Linear1().to(\"cpu\")\n",
    "print(\"model topology:\")\n",
    "print(model)\n",
    "print()\n",
    "print(\"model details:\")\n",
    "summary(model,(1,3))"
   ]
  },
  {
   "cell_type": "code",
   "execution_count": 8,
   "id": "202f7297-c6ae-48ff-9565-5972da98288d",
   "metadata": {
    "ExecuteTime": {
     "end_time": "2023-10-29T22:55:18.358401Z",
     "start_time": "2023-10-29T22:55:18.353742Z"
    }
   },
   "outputs": [],
   "source": [
    "#\n",
    "# coax numpy dataset into Pytorch tensors\n",
    "#\n",
    "x_train_tensors = torch.Tensor(x_train)\n",
    "y_train_tensors = torch.Tensor(y_train)\n",
    "train_tensors = TensorDataset(x_train_tensors,y_train_tensors)\n",
    "\n",
    "x_validate_tensors = torch.Tensor(x_val)\n",
    "y_validate_tensors = torch.Tensor(y_val)\n",
    "validate_tensors = TensorDataset(x_validate_tensors,y_validate_tensors)\n",
    "\n",
    "x_test_tensors = torch.Tensor(x_test)\n",
    "y_test_tensors = torch.Tensor(y_test)\n",
    "test_tensors = TensorDataset(x_test_tensors,y_test_tensors)\n"
   ]
  },
  {
   "cell_type": "code",
   "execution_count": 9,
   "id": "f80fc06d-3641-457b-9e0f-961a86d3dcab",
   "metadata": {
    "ExecuteTime": {
     "end_time": "2023-10-29T22:55:18.360548Z",
     "start_time": "2023-10-29T22:55:18.358319Z"
    }
   },
   "outputs": [],
   "source": [
    "#\n",
    "# create Pytorch batch loaders\n",
    "#\n",
    "train_loader = DataLoader(train_tensors,batch_size=BATCH_SIZE )\n",
    "validate_loader = torch.utils.data.DataLoader(validate_tensors, batch_size=BATCH_SIZE)\n",
    "test_loader = torch.utils.data.DataLoader(test_tensors, batch_size=BATCH_SIZE)\n"
   ]
  },
  {
   "cell_type": "code",
   "execution_count": 10,
   "id": "6dedcea3-c5ad-4624-a624-4110bb9cc92a",
   "metadata": {
    "ExecuteTime": {
     "end_time": "2023-10-29T22:55:18.364650Z",
     "start_time": "2023-10-29T22:55:18.362262Z"
    }
   },
   "outputs": [],
   "source": [
    "#\n",
    "# define what happens in a training step\n",
    "#\n",
    "def train(model, device, train_loader, optimizer, epoch):\n",
    "    '''Define the train function'''\n",
    "    model.train()\n",
    "    training_loss = 0\n",
    "    for batch_idx, (data, target) in enumerate(train_loader):\n",
    "        data, target = data.to(device), target.to(device)\n",
    "        optimizer.zero_grad()\n",
    "        output = model(data)\n",
    "        loss = F.mse_loss(output, target)\n",
    "        loss.backward()\n",
    "        optimizer.step()\n",
    "        training_loss += loss.item()\n",
    "\n",
    "    training_loss /= len(train_loader.dataset)\n",
    "    return training_loss\n"
   ]
  },
  {
   "cell_type": "code",
   "execution_count": 11,
   "id": "c0bb0295-bd22-4d2b-85b1-ae72083116da",
   "metadata": {
    "ExecuteTime": {
     "end_time": "2023-10-29T22:55:18.368194Z",
     "start_time": "2023-10-29T22:55:18.364943Z"
    }
   },
   "outputs": [],
   "source": [
    "#\n",
    "# define what happens in a validation step\n",
    "#\n",
    "def validate(model, device, validate_loader):\n",
    "    '''Define the validation function'''\n",
    "    model.eval() \n",
    "    validate_loss = 0\n",
    "    with torch.no_grad():\n",
    "        for data, target in validate_loader:\n",
    "            data, target = data.to(device), target.to(device)\n",
    "            output = model(data)\n",
    "            validate_loss += F.mse_loss(output, target, reduction='sum').item()  # sum up batch loss\n",
    "\n",
    "    validate_loss /= len(validate_loader.dataset)\n",
    "    return validate_loss\n"
   ]
  },
  {
   "cell_type": "code",
   "execution_count": 12,
   "id": "03e8d63e-81c3-44a6-be39-2bb8fe578a2d",
   "metadata": {
    "ExecuteTime": {
     "end_time": "2023-10-29T22:55:18.418675Z",
     "start_time": "2023-10-29T22:55:18.368610Z"
    }
   },
   "outputs": [],
   "source": [
    "#\n",
    "# prepare the training optimizer\n",
    "#\n",
    "optimizer = optim.Adadelta(model.parameters(), lr=LEARNING_RATE)\n",
    "scheduler = StepLR(optimizer, step_size=1, gamma=GAMMA)\n",
    "\n"
   ]
  },
  {
   "cell_type": "code",
   "execution_count": 13,
   "id": "3a113508-0486-4379-a6e3-c33e079e86db",
   "metadata": {
    "ExecuteTime": {
     "end_time": "2023-10-29T22:55:18.919863Z",
     "start_time": "2023-10-29T22:55:18.372673Z"
    }
   },
   "outputs": [
    {
     "name": "stdout",
     "output_type": "stream",
     "text": [
      "Traing: epoch=1: train loss=0.002343093434038 validation loss=0.025866736\n",
      "Traing: epoch=2: train loss=0.000251638059019 validation loss=0.001659516\n",
      "Traing: epoch=3: train loss=0.000008728952808 validation loss=0.000000368\n",
      "Traing: epoch=4: train loss=0.000000000895095 validation loss=0.000000000\n",
      "Traing: epoch=5: train loss=0.000000000000073 validation loss=0.000000000\n",
      "Traing: epoch=6: train loss=0.000000000000001 validation loss=0.000000000\n",
      "Traing: epoch=7: train loss=0.000000000000001 validation loss=0.000000000\n",
      "Traing: epoch=8: train loss=0.000000000000001 validation loss=0.000000000\n",
      "Traing: epoch=9: train loss=0.000000000000001 validation loss=0.000000000\n",
      "Traing: epoch=10: train loss=0.000000000000001 validation loss=0.000000000\n"
     ]
    },
    {
     "data": {
      "text/plain": "<Figure size 640x480 with 1 Axes>",
      "image/png": "[encoded data removed]"
     },
     "metadata": {},
     "output_type": "display_data"
    }
   ],
   "source": [
    "# \n",
    "# train (tracking training and validation loss)\n",
    "# \n",
    "tlosses = []\n",
    "vlosses = []\n",
    "\n",
    "for epoch in range(1, MAX_EPOCHS + 1):\n",
    "    tloss = train(model, \"cpu\", train_loader, optimizer, epoch)\n",
    "    vloss = validate(model, \"cpu\", validate_loader)\n",
    "    print(\"Traing: epoch=%d: train loss=%.15f validation loss=%.9f\" % (epoch, tloss, vloss) )\n",
    "    scheduler.step()\n",
    "    tlosses.append(tloss)\n",
    "    vlosses.append(vloss)\n",
    "\n",
    "plt.plot(tlosses, label='training loss')\n",
    "plt.plot(vlosses, label='validation loss')\n",
    "plt.ylabel(\"loss\")\n",
    "plt.xlabel(\"epoch\")\n",
    "plt.legend()\n",
    "plt.suptitle(\"training/validation loss over multiple epochs\")\n",
    "plt.tight_layout()"
   ]
  },
  {
   "cell_type": "code",
   "execution_count": 14,
   "id": "4f088627-e83d-477b-b4e7-ab3b818d0d53",
   "metadata": {
    "ExecuteTime": {
     "end_time": "2023-10-29T22:55:18.949910Z",
     "start_time": "2023-10-29T22:55:18.928524Z"
    }
   },
   "outputs": [
    {
     "name": "stdout",
     "output_type": "stream",
     "text": [
      "model     input                                   target                                  prediction          \n",
      "<class 'torch.Tensor'> torch.Size([20, 3])\n",
      "Linear1   tensor([0.9714, 0.5905, 0.3234])        tensor([0.9714, 0.3234])                tensor([0.9714, 0.3234])\n",
      "Linear1   tensor([0.8619, 0.5797, 0.2676])        tensor([0.8619, 0.2676])                tensor([0.8619, 0.2676])\n",
      "Linear1   tensor([0.7873, 0.4035, 0.5977])        tensor([0.7873, 0.5977])                tensor([0.7873, 0.5977])\n",
      "Linear1   tensor([0.6725, 0.5240, 0.1931])        tensor([0.6725, 0.1931])                tensor([0.6725, 0.1931])\n",
      "Linear1   tensor([0.5665, 0.0666, 0.8864])        tensor([0.5665, 0.8864])                tensor([0.5665, 0.8864])\n",
      "Linear1   tensor([0.3121, 0.0541, 0.1312])        tensor([0.3121, 0.1312])                tensor([0.3121, 0.1312])\n",
      "Linear1   tensor([0.3914, 0.9692, 0.2857])        tensor([0.3914, 0.2857])                tensor([0.3914, 0.2857])\n",
      "Linear1   tensor([0.2617, 0.3092, 0.8865])        tensor([0.2617, 0.8865])                tensor([0.2617, 0.8865])\n",
      "Linear1   tensor([0.3605, 0.9772, 0.4882])        tensor([0.3605, 0.4882])                tensor([0.3605, 0.4882])\n",
      "Linear1   tensor([0.8701, 0.0518, 0.9987])        tensor([0.8701, 0.9987])                tensor([0.8701, 0.9987])\n",
      "Linear1   tensor([0.5544, 0.7658, 0.7512])        tensor([0.5544, 0.7512])                tensor([0.5544, 0.7512])\n",
      "Linear1   tensor([0.4145, 0.2138, 0.0538])        tensor([0.4145, 0.0538])                tensor([0.4145, 0.0538])\n",
      "Linear1   tensor([0.8345, 0.7345, 0.4305])        tensor([0.8345, 0.4305])                tensor([0.8345, 0.4305])\n",
      "Linear1   tensor([0.2361, 0.1144, 0.7665])        tensor([0.2361, 0.7665])                tensor([0.2361, 0.7665])\n",
      "Linear1   tensor([0.0318, 0.6728, 0.7944])        tensor([0.0318, 0.7944])                tensor([0.0318, 0.7944])\n",
      "Linear1   tensor([0.0156, 0.5784, 0.2398])        tensor([0.0156, 0.2398])                tensor([0.0156, 0.2398])\n",
      "Linear1   tensor([0.4482, 0.3545, 0.9208])        tensor([0.4482, 0.9208])                tensor([0.4482, 0.9208])\n",
      "Linear1   tensor([0.2690, 0.8709, 0.4722])        tensor([0.2690, 0.4722])                tensor([0.2690, 0.4722])\n",
      "Linear1   tensor([0.4977, 0.8969, 0.7427])        tensor([0.4977, 0.7427])                tensor([0.4977, 0.7427])\n",
      "Linear1   tensor([0.0026, 0.9358, 0.4192])        tensor([0.0026, 0.4192])                tensor([0.0026, 0.4192])\n"
     ]
    }
   ],
   "source": [
    "#\n",
    "# sanity check the trained model on test set\n",
    "#\n",
    "print('{: <10}{: <40}{: <40}{: <20}'.format(\"model\", \"input\", \"target\", \"prediction\" ))\n",
    "\n",
    "model.eval()\n",
    "with torch.no_grad():\n",
    "\n",
    "    # just get the one batch of input, target pairs\n",
    "    data, target = next(iter(test_loader))\n",
    "\n",
    "    # get predictions\n",
    "    print(type(data),data.shape)\n",
    "    output = model(data)\n",
    "\n",
    "    # print predictions and compare to 'target' ground truth\n",
    "    for b in range(len(data)):\n",
    "        print('{: <10}{: <40}{: <40}{: <20}'.format(\\\n",
    "            model.__class__.__name__, str(data[b]), str(target[b]), str(output[b])))\n"
   ]
  },
  {
   "cell_type": "code",
   "execution_count": 15,
   "id": "201cc9ae-a2f7-4ffb-bc5c-ffab81f18df8",
   "metadata": {
    "ExecuteTime": {
     "end_time": "2023-10-29T22:55:18.966047Z",
     "start_time": "2023-10-29T22:55:18.948814Z"
    }
   },
   "outputs": [
    {
     "name": "stdout",
     "output_type": "stream",
     "text": [
      "model     input                                   prediction          \n",
      "Linear1   tensor([0.2100, 0.7700, 0.9800])        tensor([0.2100, 0.9800])\n"
     ]
    }
   ],
   "source": [
    "#\n",
    "# sanity check with manual input applied as input to the trained model\n",
    "#\n",
    "\n",
    "# manually create a Pytorch tensor from a numpy array\n",
    "manual_np_arr = np.array([[0.21, 0.77, 0.98]],dtype=np.float32)\n",
    "manual_pytorch_tensor = torch.from_numpy( manual_np_arr )\n",
    "\n",
    "print('{: <10}{: <40}{: <20}'.format(\"model\", \"input\", \"prediction\" ))\n",
    "model.eval()\n",
    "with torch.no_grad():\n",
    "     # get prediction from the model on this input\n",
    "    output = model(manual_pytorch_tensor)\n",
    "\n",
    "    # print prediction\n",
    "    print('{: <10}{: <40}{: <20}'.format(\\\n",
    "            model.__class__.__name__, str(manual_pytorch_tensor[0]), str(output[0])))"
   ]
  },
  {
   "cell_type": "code",
   "execution_count": 16,
   "id": "36cfeff0-d156-496e-a423-08d14e8638cc",
   "metadata": {
    "ExecuteTime": {
     "end_time": "2023-10-29T22:55:19.062596Z",
     "start_time": "2023-10-29T22:55:18.968334Z"
    }
   },
   "outputs": [
    {
     "name": "stdout",
     "output_type": "stream",
     "text": [
      "Parameter containing:\n",
      "tensor([[ 1.0e+00,  2.6e-08, -2.7e-08],\n",
      "        [-5.3e-09,  8.8e-09,  1.0e+00]], requires_grad=True)\n"
     ]
    }
   ],
   "source": [
    "#\n",
    "# let's look at the trained weights\n",
    "#\n",
    "torch.set_printoptions(precision=1)\n",
    "print(model.fc.weight)\n",
    "\n",
    "# it should look something like\n",
    "# [ 1 0 0 \n",
    "#   0 0 1 ]\n",
    "# which indicates the network has learned something akin to identity with a column removed"
   ]
  },
  {
   "cell_type": "code",
   "execution_count": 17,
   "id": "e913a9db-c582-48f2-94b7-0af51b21b228",
   "metadata": {
    "ExecuteTime": {
     "end_time": "2023-10-29T22:55:19.067244Z",
     "start_time": "2023-10-29T22:55:18.976914Z"
    }
   },
   "outputs": [],
   "source": [
    "#\n",
    "# In this part of the notebook, we analyze an exhaustive\n",
    "# architecture search with different basic architectures\n",
    "# including non-linear activations, dropout, and multiple layers\n",
    "# and training hyperparameters like learning rate, gamma, training epochs and\n",
    "# batch size\n",
    "#"
   ]
  },
  {
   "cell_type": "code",
   "execution_count": 18,
   "id": "1af74c01-6772-411c-9efc-535a8aab6ec8",
   "metadata": {
    "ExecuteTime": {
     "end_time": "2023-10-29T22:55:19.082780Z",
     "start_time": "2023-10-29T22:55:18.985017Z"
    }
   },
   "outputs": [
    {
     "data": {
      "text/plain": "   Unnamed: 0    model mparms  trsamples  bsize   lr  gamma  maxepochs  \\\n0           0  Linear1     ()        600     10  0.5    0.3         10   \n1           1  Linear1     ()        600     10  0.5    0.3        100   \n2           2  Linear1     ()        600     10  0.5    0.3        250   \n3           3  Linear1     ()        600     10  0.5    0.7         10   \n4           4  Linear1     ()        600     10  0.5    0.7        100   \n5           5  Linear1     ()        600     10  0.5    0.7        250   \n6           6  Linear1     ()        600     10  1.0    0.3         10   \n7           7  Linear1     ()        600     10  1.0    0.3        100   \n8           8  Linear1     ()        600     10  1.0    0.3        250   \n9           9  Linear1     ()        600     10  1.0    0.7         10   \n\n    avgtestloss  \n0  1.306716e-01  \n1  1.306713e-01  \n2  1.306713e-01  \n3  4.572844e-02  \n4  4.402199e-02  \n5  4.402199e-02  \n6  9.200741e-03  \n7  9.200667e-03  \n8  9.200667e-03  \n9  9.298249e-08  ",
      "text/html": "<div>\n<style scoped>\n    .dataframe tbody tr th:only-of-type {\n        vertical-align: middle;\n    }\n\n    .dataframe tbody tr th {\n        vertical-align: top;\n    }\n\n    .dataframe thead th {\n        text-align: right;\n    }\n</style>\n<table border=\"1\" class=\"dataframe\">\n  <thead>\n    <tr style=\"text-align: right;\">\n      <th></th>\n      <th>Unnamed: 0</th>\n      <th>model</th>\n      <th>mparms</th>\n      <th>trsamples</th>\n      <th>bsize</th>\n      <th>lr</th>\n      <th>gamma</th>\n      <th>maxepochs</th>\n      <th>avgtestloss</th>\n    </tr>\n  </thead>\n  <tbody>\n    <tr>\n      <th>0</th>\n      <td>0</td>\n      <td>Linear1</td>\n      <td>()</td>\n      <td>600</td>\n      <td>10</td>\n      <td>0.5</td>\n      <td>0.3</td>\n      <td>10</td>\n      <td>1.306716e-01</td>\n    </tr>\n    <tr>\n      <th>1</th>\n      <td>1</td>\n      <td>Linear1</td>\n      <td>()</td>\n      <td>600</td>\n      <td>10</td>\n      <td>0.5</td>\n      <td>0.3</td>\n      <td>100</td>\n      <td>1.306713e-01</td>\n    </tr>\n    <tr>\n      <th>2</th>\n      <td>2</td>\n      <td>Linear1</td>\n      <td>()</td>\n      <td>600</td>\n      <td>10</td>\n      <td>0.5</td>\n      <td>0.3</td>\n      <td>250</td>\n      <td>1.306713e-01</td>\n    </tr>\n    <tr>\n      <th>3</th>\n      <td>3</td>\n      <td>Linear1</td>\n      <td>()</td>\n      <td>600</td>\n      <td>10</td>\n      <td>0.5</td>\n      <td>0.7</td>\n      <td>10</td>\n      <td>4.572844e-02</td>\n    </tr>\n    <tr>\n      <th>4</th>\n      <td>4</td>\n      <td>Linear1</td>\n      <td>()</td>\n      <td>600</td>\n      <td>10</td>\n      <td>0.5</td>\n      <td>0.7</td>\n      <td>100</td>\n      <td>4.402199e-02</td>\n    </tr>\n    <tr>\n      <th>5</th>\n      <td>5</td>\n      <td>Linear1</td>\n      <td>()</td>\n      <td>600</td>\n      <td>10</td>\n      <td>0.5</td>\n      <td>0.7</td>\n      <td>250</td>\n      <td>4.402199e-02</td>\n    </tr>\n    <tr>\n      <th>6</th>\n      <td>6</td>\n      <td>Linear1</td>\n      <td>()</td>\n      <td>600</td>\n      <td>10</td>\n      <td>1.0</td>\n      <td>0.3</td>\n      <td>10</td>\n      <td>9.200741e-03</td>\n    </tr>\n    <tr>\n      <th>7</th>\n      <td>7</td>\n      <td>Linear1</td>\n      <td>()</td>\n      <td>600</td>\n      <td>10</td>\n      <td>1.0</td>\n      <td>0.3</td>\n      <td>100</td>\n      <td>9.200667e-03</td>\n    </tr>\n    <tr>\n      <th>8</th>\n      <td>8</td>\n      <td>Linear1</td>\n      <td>()</td>\n      <td>600</td>\n      <td>10</td>\n      <td>1.0</td>\n      <td>0.3</td>\n      <td>250</td>\n      <td>9.200667e-03</td>\n    </tr>\n    <tr>\n      <th>9</th>\n      <td>9</td>\n      <td>Linear1</td>\n      <td>()</td>\n      <td>600</td>\n      <td>10</td>\n      <td>1.0</td>\n      <td>0.7</td>\n      <td>10</td>\n      <td>9.298249e-08</td>\n    </tr>\n  </tbody>\n</table>\n</div>"
     },
     "execution_count": 18,
     "metadata": {},
     "output_type": "execute_result"
    }
   ],
   "source": [
    "#\n",
    "# load architecture search data\n",
    "#\n",
    "df = pd.read_csv(CSV,delimiter='\\t')\n",
    "df.head(10)"
   ]
  },
  {
   "cell_type": "code",
   "execution_count": 19,
   "id": "01d17f5a-20a3-4087-b856-6d1b0f227847",
   "metadata": {
    "ExecuteTime": {
     "end_time": "2023-10-29T22:55:19.415432Z",
     "start_time": "2023-10-29T22:55:18.997034Z"
    }
   },
   "outputs": [
    {
     "data": {
      "text/plain": "<Figure size 640x480 with 12 Axes>",
      "image/png": "[encoded data removed]"
     },
     "metadata": {},
     "output_type": "display_data"
    }
   ],
   "source": [
    "#\n",
    "# histogram the final validation loss\n",
    "#\n",
    "df.hist('avgtestloss', by='model')\n",
    "plt.suptitle(\"Test Loss Histogram (avg) For Different Network Architectures\")\n",
    "plt.tight_layout()"
   ]
  },
  {
   "cell_type": "code",
   "execution_count": 20,
   "id": "d60f2db7-61cc-46ce-9d19-cbae09bc860f",
   "metadata": {
    "ExecuteTime": {
     "end_time": "2023-10-29T22:55:19.424901Z",
     "start_time": "2023-10-29T22:55:19.420442Z"
    }
   },
   "outputs": [
    {
     "data": {
      "text/plain": "    Unnamed: 0    model mparms  trsamples  bsize           lr        gamma  \\\n0            0  Linear1     ()        600     10 0.5000000000 0.3000000000   \n1            1  Linear1     ()        600     10 0.5000000000 0.3000000000   \n2            2  Linear1     ()        600     10 0.5000000000 0.3000000000   \n3            3  Linear1     ()        600     10 0.5000000000 0.7000000000   \n4            4  Linear1     ()        600     10 0.5000000000 0.7000000000   \n5            5  Linear1     ()        600     10 0.5000000000 0.7000000000   \n6            6  Linear1     ()        600     10 1.0000000000 0.3000000000   \n7            7  Linear1     ()        600     10 1.0000000000 0.3000000000   \n8            8  Linear1     ()        600     10 1.0000000000 0.3000000000   \n9            9  Linear1     ()        600     10 1.0000000000 0.7000000000   \n10          10  Linear1     ()        600     10 1.0000000000 0.7000000000   \n11          11  Linear1     ()        600     10 1.0000000000 0.7000000000   \n12          12  Linear1     ()        600     20 0.5000000000 0.3000000000   \n13          13  Linear1     ()        600     20 0.5000000000 0.3000000000   \n14          14  Linear1     ()        600     20 0.5000000000 0.3000000000   \n15          15  Linear1     ()        600     20 0.5000000000 0.7000000000   \n16          16  Linear1     ()        600     20 0.5000000000 0.7000000000   \n17          17  Linear1     ()        600     20 0.5000000000 0.7000000000   \n18          18  Linear1     ()        600     20 1.0000000000 0.3000000000   \n19          19  Linear1     ()        600     20 1.0000000000 0.3000000000   \n20          20  Linear1     ()        600     20 1.0000000000 0.3000000000   \n21          21  Linear1     ()        600     20 1.0000000000 0.7000000000   \n22          22  Linear1     ()        600     20 1.0000000000 0.7000000000   \n23          23  Linear1     ()        600     20 1.0000000000 0.7000000000   \n24          24  Linear1     ()        600     50 0.5000000000 0.3000000000   \n25          25  Linear1     ()        600     50 0.5000000000 0.3000000000   \n26          26  Linear1     ()        600     50 0.5000000000 0.3000000000   \n27          27  Linear1     ()        600     50 0.5000000000 0.7000000000   \n28          28  Linear1     ()        600     50 0.5000000000 0.7000000000   \n29          29  Linear1     ()        600     50 0.5000000000 0.7000000000   \n30          30  Linear1     ()        600     50 1.0000000000 0.3000000000   \n31          31  Linear1     ()        600     50 1.0000000000 0.3000000000   \n32          32  Linear1     ()        600     50 1.0000000000 0.3000000000   \n33          33  Linear1     ()        600     50 1.0000000000 0.7000000000   \n34          34  Linear1     ()        600     50 1.0000000000 0.7000000000   \n35          35  Linear1     ()        600     50 1.0000000000 0.7000000000   \n36          36  Linear1     ()       6000     10 0.5000000000 0.3000000000   \n37          37  Linear1     ()       6000     10 0.5000000000 0.3000000000   \n38          38  Linear1     ()       6000     10 0.5000000000 0.3000000000   \n39          39  Linear1     ()       6000     10 0.5000000000 0.7000000000   \n40          40  Linear1     ()       6000     10 0.5000000000 0.7000000000   \n41          41  Linear1     ()       6000     10 0.5000000000 0.7000000000   \n42          42  Linear1     ()       6000     10 1.0000000000 0.3000000000   \n43          43  Linear1     ()       6000     10 1.0000000000 0.3000000000   \n44          44  Linear1     ()       6000     10 1.0000000000 0.3000000000   \n45          45  Linear1     ()       6000     10 1.0000000000 0.7000000000   \n46          46  Linear1     ()       6000     10 1.0000000000 0.7000000000   \n47          47  Linear1     ()       6000     10 1.0000000000 0.7000000000   \n48          48  Linear1     ()       6000     20 0.5000000000 0.3000000000   \n49          49  Linear1     ()       6000     20 0.5000000000 0.3000000000   \n50          50  Linear1     ()       6000     20 0.5000000000 0.3000000000   \n51          51  Linear1     ()       6000     20 0.5000000000 0.7000000000   \n52          52  Linear1     ()       6000     20 0.5000000000 0.7000000000   \n53          53  Linear1     ()       6000     20 0.5000000000 0.7000000000   \n54          54  Linear1     ()       6000     20 1.0000000000 0.3000000000   \n55          55  Linear1     ()       6000     20 1.0000000000 0.3000000000   \n56          56  Linear1     ()       6000     20 1.0000000000 0.3000000000   \n57          57  Linear1     ()       6000     20 1.0000000000 0.7000000000   \n58          58  Linear1     ()       6000     20 1.0000000000 0.7000000000   \n59          59  Linear1     ()       6000     20 1.0000000000 0.7000000000   \n60          60  Linear1     ()       6000     50 0.5000000000 0.3000000000   \n61          61  Linear1     ()       6000     50 0.5000000000 0.3000000000   \n62          62  Linear1     ()       6000     50 0.5000000000 0.3000000000   \n63          63  Linear1     ()       6000     50 0.5000000000 0.7000000000   \n64          64  Linear1     ()       6000     50 0.5000000000 0.7000000000   \n65          65  Linear1     ()       6000     50 0.5000000000 0.7000000000   \n66          66  Linear1     ()       6000     50 1.0000000000 0.3000000000   \n67          67  Linear1     ()       6000     50 1.0000000000 0.3000000000   \n68          68  Linear1     ()       6000     50 1.0000000000 0.3000000000   \n69          69  Linear1     ()       6000     50 1.0000000000 0.7000000000   \n70          70  Linear1     ()       6000     50 1.0000000000 0.7000000000   \n71          71  Linear1     ()       6000     50 1.0000000000 0.7000000000   \n\n    maxepochs  avgtestloss  \n0          10 0.1306716055  \n1         100 0.1306713116  \n2         250 0.1306713116  \n3          10 0.0457284376  \n4         100 0.0440219861  \n5         250 0.0440219861  \n6          10 0.0092007408  \n7         100 0.0092006667  \n8         250 0.0092006667  \n9          10 0.0000000930  \n10        100 0.0000000536  \n11        250 0.0000000536  \n12         10 0.0000000067  \n13        100 0.0000000067  \n14        250 0.0000000067  \n15         10 0.0000000001  \n16        100 0.0000000001  \n17        250 0.0000000001  \n18         10 0.0000000000  \n19        100 0.0000000000  \n20        250 0.0000000000  \n21         10 0.0000000000  \n22        100 0.0000000000  \n23        250 0.0000000000  \n24         10 0.0000000000  \n25        100 0.0000000000  \n26        250 0.0000000000  \n27         10 0.0000000000  \n28        100 0.0000000000  \n29        250 0.0000000000  \n30         10 0.0000000000  \n31        100 0.0000000000  \n32        250 0.0000000000  \n33         10 0.0000000000  \n34        100 0.0000000000  \n35        250 0.0000000000  \n36         10 0.0000000000  \n37        100 0.0000000000  \n38        250 0.0000000000  \n39         10 0.0000000000  \n40        100 0.0000000000  \n41        250 0.0000000000  \n42         10 0.0000000000  \n43        100 0.0000000000  \n44        250 0.0000000000  \n45         10 0.0000000000  \n46        100 0.0000000000  \n47        250 0.0000000000  \n48         10 0.0000000000  \n49        100 0.0000000000  \n50        250 0.0000000000  \n51         10 0.0000000000  \n52        100 0.0000000000  \n53        250 0.0000000000  \n54         10 0.0000000000  \n55        100 0.0000000000  \n56        250 0.0000000000  \n57         10 0.0000000000  \n58        100 0.0000000000  \n59        250 0.0000000000  \n60         10 0.0000000000  \n61        100 0.0000000000  \n62        250 0.0000000000  \n63         10 0.0000000000  \n64        100 0.0000000000  \n65        250 0.0000000000  \n66         10 0.0000000000  \n67        100 0.0000000000  \n68        250 0.0000000000  \n69         10 0.0000000000  \n70        100 0.0000000000  \n71        250 0.0000000000  ",
      "text/html": "<div>\n<style scoped>\n    .dataframe tbody tr th:only-of-type {\n        vertical-align: middle;\n    }\n\n    .dataframe tbody tr th {\n        vertical-align: top;\n    }\n\n    .dataframe thead th {\n        text-align: right;\n    }\n</style>\n<table border=\"1\" class=\"dataframe\">\n  <thead>\n    <tr style=\"text-align: right;\">\n      <th></th>\n      <th>Unnamed: 0</th>\n      <th>model</th>\n      <th>mparms</th>\n      <th>trsamples</th>\n      <th>bsize</th>\n      <th>lr</th>\n      <th>gamma</th>\n      <th>maxepochs</th>\n      <th>avgtestloss</th>\n    </tr>\n  </thead>\n  <tbody>\n    <tr>\n      <th>0</th>\n      <td>0</td>\n      <td>Linear1</td>\n      <td>()</td>\n      <td>600</td>\n      <td>10</td>\n      <td>0.5000000000</td>\n      <td>0.3000000000</td>\n      <td>10</td>\n      <td>0.1306716055</td>\n    </tr>\n    <tr>\n      <th>1</th>\n      <td>1</td>\n      <td>Linear1</td>\n      <td>()</td>\n      <td>600</td>\n      <td>10</td>\n      <td>0.5000000000</td>\n      <td>0.3000000000</td>\n      <td>100</td>\n      <td>0.1306713116</td>\n    </tr>\n    <tr>\n      <th>2</th>\n      <td>2</td>\n      <td>Linear1</td>\n      <td>()</td>\n      <td>600</td>\n      <td>10</td>\n      <td>0.5000000000</td>\n      <td>0.3000000000</td>\n      <td>250</td>\n      <td>0.1306713116</td>\n    </tr>\n    <tr>\n      <th>3</th>\n      <td>3</td>\n      <td>Linear1</td>\n      <td>()</td>\n      <td>600</td>\n      <td>10</td>\n      <td>0.5000000000</td>\n      <td>0.7000000000</td>\n      <td>10</td>\n      <td>0.0457284376</td>\n    </tr>\n    <tr>\n      <th>4</th>\n      <td>4</td>\n      <td>Linear1</td>\n      <td>()</td>\n      <td>600</td>\n      <td>10</td>\n      <td>0.5000000000</td>\n      <td>0.7000000000</td>\n      <td>100</td>\n      <td>0.0440219861</td>\n    </tr>\n    <tr>\n      <th>5</th>\n      <td>5</td>\n      <td>Linear1</td>\n      <td>()</td>\n      <td>600</td>\n      <td>10</td>\n      <td>0.5000000000</td>\n      <td>0.7000000000</td>\n      <td>250</td>\n      <td>0.0440219861</td>\n    </tr>\n    <tr>\n      <th>6</th>\n      <td>6</td>\n      <td>Linear1</td>\n      <td>()</td>\n      <td>600</td>\n      <td>10</td>\n      <td>1.0000000000</td>\n      <td>0.3000000000</td>\n      <td>10</td>\n      <td>0.0092007408</td>\n    </tr>\n    <tr>\n      <th>7</th>\n      <td>7</td>\n      <td>Linear1</td>\n      <td>()</td>\n      <td>600</td>\n      <td>10</td>\n      <td>1.0000000000</td>\n      <td>0.3000000000</td>\n      <td>100</td>\n      <td>0.0092006667</td>\n    </tr>\n    <tr>\n      <th>8</th>\n      <td>8</td>\n      <td>Linear1</td>\n      <td>()</td>\n      <td>600</td>\n      <td>10</td>\n      <td>1.0000000000</td>\n      <td>0.3000000000</td>\n      <td>250</td>\n      <td>0.0092006667</td>\n    </tr>\n    <tr>\n      <th>9</th>\n      <td>9</td>\n      <td>Linear1</td>\n      <td>()</td>\n      <td>600</td>\n      <td>10</td>\n      <td>1.0000000000</td>\n      <td>0.7000000000</td>\n      <td>10</td>\n      <td>0.0000000930</td>\n    </tr>\n    <tr>\n      <th>10</th>\n      <td>10</td>\n      <td>Linear1</td>\n      <td>()</td>\n      <td>600</td>\n      <td>10</td>\n      <td>1.0000000000</td>\n      <td>0.7000000000</td>\n      <td>100</td>\n      <td>0.0000000536</td>\n    </tr>\n    <tr>\n      <th>11</th>\n      <td>11</td>\n      <td>Linear1</td>\n      <td>()</td>\n      <td>600</td>\n      <td>10</td>\n      <td>1.0000000000</td>\n      <td>0.7000000000</td>\n      <td>250</td>\n      <td>0.0000000536</td>\n    </tr>\n    <tr>\n      <th>12</th>\n      <td>12</td>\n      <td>Linear1</td>\n      <td>()</td>\n      <td>600</td>\n      <td>20</td>\n      <td>0.5000000000</td>\n      <td>0.3000000000</td>\n      <td>10</td>\n      <td>0.0000000067</td>\n    </tr>\n    <tr>\n      <th>13</th>\n      <td>13</td>\n      <td>Linear1</td>\n      <td>()</td>\n      <td>600</td>\n      <td>20</td>\n      <td>0.5000000000</td>\n      <td>0.3000000000</td>\n      <td>100</td>\n      <td>0.0000000067</td>\n    </tr>\n    <tr>\n      <th>14</th>\n      <td>14</td>\n      <td>Linear1</td>\n      <td>()</td>\n      <td>600</td>\n      <td>20</td>\n      <td>0.5000000000</td>\n      <td>0.3000000000</td>\n      <td>250</td>\n      <td>0.0000000067</td>\n    </tr>\n    <tr>\n      <th>15</th>\n      <td>15</td>\n      <td>Linear1</td>\n      <td>()</td>\n      <td>600</td>\n      <td>20</td>\n      <td>0.5000000000</td>\n      <td>0.7000000000</td>\n      <td>10</td>\n      <td>0.0000000001</td>\n    </tr>\n    <tr>\n      <th>16</th>\n      <td>16</td>\n      <td>Linear1</td>\n      <td>()</td>\n      <td>600</td>\n      <td>20</td>\n      <td>0.5000000000</td>\n      <td>0.7000000000</td>\n      <td>100</td>\n      <td>0.0000000001</td>\n    </tr>\n    <tr>\n      <th>17</th>\n      <td>17</td>\n      <td>Linear1</td>\n      <td>()</td>\n      <td>600</td>\n      <td>20</td>\n      <td>0.5000000000</td>\n      <td>0.7000000000</td>\n      <td>250</td>\n      <td>0.0000000001</td>\n    </tr>\n    <tr>\n      <th>18</th>\n      <td>18</td>\n      <td>Linear1</td>\n      <td>()</td>\n      <td>600</td>\n      <td>20</td>\n      <td>1.0000000000</td>\n      <td>0.3000000000</td>\n      <td>10</td>\n      <td>0.0000000000</td>\n    </tr>\n    <tr>\n      <th>19</th>\n      <td>19</td>\n      <td>Linear1</td>\n      <td>()</td>\n      <td>600</td>\n      <td>20</td>\n      <td>1.0000000000</td>\n      <td>0.3000000000</td>\n      <td>100</td>\n      <td>0.0000000000</td>\n    </tr>\n    <tr>\n      <th>20</th>\n      <td>20</td>\n      <td>Linear1</td>\n      <td>()</td>\n      <td>600</td>\n      <td>20</td>\n      <td>1.0000000000</td>\n      <td>0.3000000000</td>\n      <td>250</td>\n      <td>0.0000000000</td>\n    </tr>\n    <tr>\n      <th>21</th>\n      <td>21</td>\n      <td>Linear1</td>\n      <td>()</td>\n      <td>600</td>\n      <td>20</td>\n      <td>1.0000000000</td>\n      <td>0.7000000000</td>\n      <td>10</td>\n      <td>0.0000000000</td>\n    </tr>\n    <tr>\n      <th>22</th>\n      <td>22</td>\n      <td>Linear1</td>\n      <td>()</td>\n      <td>600</td>\n      <td>20</td>\n      <td>1.0000000000</td>\n      <td>0.7000000000</td>\n      <td>100</td>\n      <td>0.0000000000</td>\n    </tr>\n    <tr>\n      <th>23</th>\n      <td>23</td>\n      <td>Linear1</td>\n      <td>()</td>\n      <td>600</td>\n      <td>20</td>\n      <td>1.0000000000</td>\n      <td>0.7000000000</td>\n      <td>250</td>\n      <td>0.0000000000</td>\n    </tr>\n    <tr>\n      <th>24</th>\n      <td>24</td>\n      <td>Linear1</td>\n      <td>()</td>\n      <td>600</td>\n      <td>50</td>\n      <td>0.5000000000</td>\n      <td>0.3000000000</td>\n      <td>10</td>\n      <td>0.0000000000</td>\n    </tr>\n    <tr>\n      <th>25</th>\n      <td>25</td>\n      <td>Linear1</td>\n      <td>()</td>\n      <td>600</td>\n      <td>50</td>\n      <td>0.5000000000</td>\n      <td>0.3000000000</td>\n      <td>100</td>\n      <td>0.0000000000</td>\n    </tr>\n    <tr>\n      <th>26</th>\n      <td>26</td>\n      <td>Linear1</td>\n      <td>()</td>\n      <td>600</td>\n      <td>50</td>\n      <td>0.5000000000</td>\n      <td>0.3000000000</td>\n      <td>250</td>\n      <td>0.0000000000</td>\n    </tr>\n    <tr>\n      <th>27</th>\n      <td>27</td>\n      <td>Linear1</td>\n      <td>()</td>\n      <td>600</td>\n      <td>50</td>\n      <td>0.5000000000</td>\n      <td>0.7000000000</td>\n      <td>10</td>\n      <td>0.0000000000</td>\n    </tr>\n    <tr>\n      <th>28</th>\n      <td>28</td>\n      <td>Linear1</td>\n      <td>()</td>\n      <td>600</td>\n      <td>50</td>\n      <td>0.5000000000</td>\n      <td>0.7000000000</td>\n      <td>100</td>\n      <td>0.0000000000</td>\n    </tr>\n    <tr>\n      <th>29</th>\n      <td>29</td>\n      <td>Linear1</td>\n      <td>()</td>\n      <td>600</td>\n      <td>50</td>\n      <td>0.5000000000</td>\n      <td>0.7000000000</td>\n      <td>250</td>\n      <td>0.0000000000</td>\n    </tr>\n    <tr>\n      <th>30</th>\n      <td>30</td>\n      <td>Linear1</td>\n      <td>()</td>\n      <td>600</td>\n      <td>50</td>\n      <td>1.0000000000</td>\n      <td>0.3000000000</td>\n      <td>10</td>\n      <td>0.0000000000</td>\n    </tr>\n    <tr>\n      <th>31</th>\n      <td>31</td>\n      <td>Linear1</td>\n      <td>()</td>\n      <td>600</td>\n      <td>50</td>\n      <td>1.0000000000</td>\n      <td>0.3000000000</td>\n      <td>100</td>\n      <td>0.0000000000</td>\n    </tr>\n    <tr>\n      <th>32</th>\n      <td>32</td>\n      <td>Linear1</td>\n      <td>()</td>\n      <td>600</td>\n      <td>50</td>\n      <td>1.0000000000</td>\n      <td>0.3000000000</td>\n      <td>250</td>\n      <td>0.0000000000</td>\n    </tr>\n    <tr>\n      <th>33</th>\n      <td>33</td>\n      <td>Linear1</td>\n      <td>()</td>\n      <td>600</td>\n      <td>50</td>\n      <td>1.0000000000</td>\n      <td>0.7000000000</td>\n      <td>10</td>\n      <td>0.0000000000</td>\n    </tr>\n    <tr>\n      <th>34</th>\n      <td>34</td>\n      <td>Linear1</td>\n      <td>()</td>\n      <td>600</td>\n      <td>50</td>\n      <td>1.0000000000</td>\n      <td>0.7000000000</td>\n      <td>100</td>\n      <td>0.0000000000</td>\n    </tr>\n    <tr>\n      <th>35</th>\n      <td>35</td>\n      <td>Linear1</td>\n      <td>()</td>\n      <td>600</td>\n      <td>50</td>\n      <td>1.0000000000</td>\n      <td>0.7000000000</td>\n      <td>250</td>\n      <td>0.0000000000</td>\n    </tr>\n    <tr>\n      <th>36</th>\n      <td>36</td>\n      <td>Linear1</td>\n      <td>()</td>\n      <td>6000</td>\n      <td>10</td>\n      <td>0.5000000000</td>\n      <td>0.3000000000</td>\n      <td>10</td>\n      <td>0.0000000000</td>\n    </tr>\n    <tr>\n      <th>37</th>\n      <td>37</td>\n      <td>Linear1</td>\n      <td>()</td>\n      <td>6000</td>\n      <td>10</td>\n      <td>0.5000000000</td>\n      <td>0.3000000000</td>\n      <td>100</td>\n      <td>0.0000000000</td>\n    </tr>\n    <tr>\n      <th>38</th>\n      <td>38</td>\n      <td>Linear1</td>\n      <td>()</td>\n      <td>6000</td>\n      <td>10</td>\n      <td>0.5000000000</td>\n      <td>0.3000000000</td>\n      <td>250</td>\n      <td>0.0000000000</td>\n    </tr>\n    <tr>\n      <th>39</th>\n      <td>39</td>\n      <td>Linear1</td>\n      <td>()</td>\n      <td>6000</td>\n      <td>10</td>\n      <td>0.5000000000</td>\n      <td>0.7000000000</td>\n      <td>10</td>\n      <td>0.0000000000</td>\n    </tr>\n    <tr>\n      <th>40</th>\n      <td>40</td>\n      <td>Linear1</td>\n      <td>()</td>\n      <td>6000</td>\n      <td>10</td>\n      <td>0.5000000000</td>\n      <td>0.7000000000</td>\n      <td>100</td>\n      <td>0.0000000000</td>\n    </tr>\n    <tr>\n      <th>41</th>\n      <td>41</td>\n      <td>Linear1</td>\n      <td>()</td>\n      <td>6000</td>\n      <td>10</td>\n      <td>0.5000000000</td>\n      <td>0.7000000000</td>\n      <td>250</td>\n      <td>0.0000000000</td>\n    </tr>\n    <tr>\n      <th>42</th>\n      <td>42</td>\n      <td>Linear1</td>\n      <td>()</td>\n      <td>6000</td>\n      <td>10</td>\n      <td>1.0000000000</td>\n      <td>0.3000000000</td>\n      <td>10</td>\n      <td>0.0000000000</td>\n    </tr>\n    <tr>\n      <th>43</th>\n      <td>43</td>\n      <td>Linear1</td>\n      <td>()</td>\n      <td>6000</td>\n      <td>10</td>\n      <td>1.0000000000</td>\n      <td>0.3000000000</td>\n      <td>100</td>\n      <td>0.0000000000</td>\n    </tr>\n    <tr>\n      <th>44</th>\n      <td>44</td>\n      <td>Linear1</td>\n      <td>()</td>\n      <td>6000</td>\n      <td>10</td>\n      <td>1.0000000000</td>\n      <td>0.3000000000</td>\n      <td>250</td>\n      <td>0.0000000000</td>\n    </tr>\n    <tr>\n      <th>45</th>\n      <td>45</td>\n      <td>Linear1</td>\n      <td>()</td>\n      <td>6000</td>\n      <td>10</td>\n      <td>1.0000000000</td>\n      <td>0.7000000000</td>\n      <td>10</td>\n      <td>0.0000000000</td>\n    </tr>\n    <tr>\n      <th>46</th>\n      <td>46</td>\n      <td>Linear1</td>\n      <td>()</td>\n      <td>6000</td>\n      <td>10</td>\n      <td>1.0000000000</td>\n      <td>0.7000000000</td>\n      <td>100</td>\n      <td>0.0000000000</td>\n    </tr>\n    <tr>\n      <th>47</th>\n      <td>47</td>\n      <td>Linear1</td>\n      <td>()</td>\n      <td>6000</td>\n      <td>10</td>\n      <td>1.0000000000</td>\n      <td>0.7000000000</td>\n      <td>250</td>\n      <td>0.0000000000</td>\n    </tr>\n    <tr>\n      <th>48</th>\n      <td>48</td>\n      <td>Linear1</td>\n      <td>()</td>\n      <td>6000</td>\n      <td>20</td>\n      <td>0.5000000000</td>\n      <td>0.3000000000</td>\n      <td>10</td>\n      <td>0.0000000000</td>\n    </tr>\n    <tr>\n      <th>49</th>\n      <td>49</td>\n      <td>Linear1</td>\n      <td>()</td>\n      <td>6000</td>\n      <td>20</td>\n      <td>0.5000000000</td>\n      <td>0.3000000000</td>\n      <td>100</td>\n      <td>0.0000000000</td>\n    </tr>\n    <tr>\n      <th>50</th>\n      <td>50</td>\n      <td>Linear1</td>\n      <td>()</td>\n      <td>6000</td>\n      <td>20</td>\n      <td>0.5000000000</td>\n      <td>0.3000000000</td>\n      <td>250</td>\n      <td>0.0000000000</td>\n    </tr>\n    <tr>\n      <th>51</th>\n      <td>51</td>\n      <td>Linear1</td>\n      <td>()</td>\n      <td>6000</td>\n      <td>20</td>\n      <td>0.5000000000</td>\n      <td>0.7000000000</td>\n      <td>10</td>\n      <td>0.0000000000</td>\n    </tr>\n    <tr>\n      <th>52</th>\n      <td>52</td>\n      <td>Linear1</td>\n      <td>()</td>\n      <td>6000</td>\n      <td>20</td>\n      <td>0.5000000000</td>\n      <td>0.7000000000</td>\n      <td>100</td>\n      <td>0.0000000000</td>\n    </tr>\n    <tr>\n      <th>53</th>\n      <td>53</td>\n      <td>Linear1</td>\n      <td>()</td>\n      <td>6000</td>\n      <td>20</td>\n      <td>0.5000000000</td>\n      <td>0.7000000000</td>\n      <td>250</td>\n      <td>0.0000000000</td>\n    </tr>\n    <tr>\n      <th>54</th>\n      <td>54</td>\n      <td>Linear1</td>\n      <td>()</td>\n      <td>6000</td>\n      <td>20</td>\n      <td>1.0000000000</td>\n      <td>0.3000000000</td>\n      <td>10</td>\n      <td>0.0000000000</td>\n    </tr>\n    <tr>\n      <th>55</th>\n      <td>55</td>\n      <td>Linear1</td>\n      <td>()</td>\n      <td>6000</td>\n      <td>20</td>\n      <td>1.0000000000</td>\n      <td>0.3000000000</td>\n      <td>100</td>\n      <td>0.0000000000</td>\n    </tr>\n    <tr>\n      <th>56</th>\n      <td>56</td>\n      <td>Linear1</td>\n      <td>()</td>\n      <td>6000</td>\n      <td>20</td>\n      <td>1.0000000000</td>\n      <td>0.3000000000</td>\n      <td>250</td>\n      <td>0.0000000000</td>\n    </tr>\n    <tr>\n      <th>57</th>\n      <td>57</td>\n      <td>Linear1</td>\n      <td>()</td>\n      <td>6000</td>\n      <td>20</td>\n      <td>1.0000000000</td>\n      <td>0.7000000000</td>\n      <td>10</td>\n      <td>0.0000000000</td>\n    </tr>\n    <tr>\n      <th>58</th>\n      <td>58</td>\n      <td>Linear1</td>\n      <td>()</td>\n      <td>6000</td>\n      <td>20</td>\n      <td>1.0000000000</td>\n      <td>0.7000000000</td>\n      <td>100</td>\n      <td>0.0000000000</td>\n    </tr>\n    <tr>\n      <th>59</th>\n      <td>59</td>\n      <td>Linear1</td>\n      <td>()</td>\n      <td>6000</td>\n      <td>20</td>\n      <td>1.0000000000</td>\n      <td>0.7000000000</td>\n      <td>250</td>\n      <td>0.0000000000</td>\n    </tr>\n    <tr>\n      <th>60</th>\n      <td>60</td>\n      <td>Linear1</td>\n      <td>()</td>\n      <td>6000</td>\n      <td>50</td>\n      <td>0.5000000000</td>\n      <td>0.3000000000</td>\n      <td>10</td>\n      <td>0.0000000000</td>\n    </tr>\n    <tr>\n      <th>61</th>\n      <td>61</td>\n      <td>Linear1</td>\n      <td>()</td>\n      <td>6000</td>\n      <td>50</td>\n      <td>0.5000000000</td>\n      <td>0.3000000000</td>\n      <td>100</td>\n      <td>0.0000000000</td>\n    </tr>\n    <tr>\n      <th>62</th>\n      <td>62</td>\n      <td>Linear1</td>\n      <td>()</td>\n      <td>6000</td>\n      <td>50</td>\n      <td>0.5000000000</td>\n      <td>0.3000000000</td>\n      <td>250</td>\n      <td>0.0000000000</td>\n    </tr>\n    <tr>\n      <th>63</th>\n      <td>63</td>\n      <td>Linear1</td>\n      <td>()</td>\n      <td>6000</td>\n      <td>50</td>\n      <td>0.5000000000</td>\n      <td>0.7000000000</td>\n      <td>10</td>\n      <td>0.0000000000</td>\n    </tr>\n    <tr>\n      <th>64</th>\n      <td>64</td>\n      <td>Linear1</td>\n      <td>()</td>\n      <td>6000</td>\n      <td>50</td>\n      <td>0.5000000000</td>\n      <td>0.7000000000</td>\n      <td>100</td>\n      <td>0.0000000000</td>\n    </tr>\n    <tr>\n      <th>65</th>\n      <td>65</td>\n      <td>Linear1</td>\n      <td>()</td>\n      <td>6000</td>\n      <td>50</td>\n      <td>0.5000000000</td>\n      <td>0.7000000000</td>\n      <td>250</td>\n      <td>0.0000000000</td>\n    </tr>\n    <tr>\n      <th>66</th>\n      <td>66</td>\n      <td>Linear1</td>\n      <td>()</td>\n      <td>6000</td>\n      <td>50</td>\n      <td>1.0000000000</td>\n      <td>0.3000000000</td>\n      <td>10</td>\n      <td>0.0000000000</td>\n    </tr>\n    <tr>\n      <th>67</th>\n      <td>67</td>\n      <td>Linear1</td>\n      <td>()</td>\n      <td>6000</td>\n      <td>50</td>\n      <td>1.0000000000</td>\n      <td>0.3000000000</td>\n      <td>100</td>\n      <td>0.0000000000</td>\n    </tr>\n    <tr>\n      <th>68</th>\n      <td>68</td>\n      <td>Linear1</td>\n      <td>()</td>\n      <td>6000</td>\n      <td>50</td>\n      <td>1.0000000000</td>\n      <td>0.3000000000</td>\n      <td>250</td>\n      <td>0.0000000000</td>\n    </tr>\n    <tr>\n      <th>69</th>\n      <td>69</td>\n      <td>Linear1</td>\n      <td>()</td>\n      <td>6000</td>\n      <td>50</td>\n      <td>1.0000000000</td>\n      <td>0.7000000000</td>\n      <td>10</td>\n      <td>0.0000000000</td>\n    </tr>\n    <tr>\n      <th>70</th>\n      <td>70</td>\n      <td>Linear1</td>\n      <td>()</td>\n      <td>6000</td>\n      <td>50</td>\n      <td>1.0000000000</td>\n      <td>0.7000000000</td>\n      <td>100</td>\n      <td>0.0000000000</td>\n    </tr>\n    <tr>\n      <th>71</th>\n      <td>71</td>\n      <td>Linear1</td>\n      <td>()</td>\n      <td>6000</td>\n      <td>50</td>\n      <td>1.0000000000</td>\n      <td>0.7000000000</td>\n      <td>250</td>\n      <td>0.0000000000</td>\n    </tr>\n  </tbody>\n</table>\n</div>"
     },
     "execution_count": 20,
     "metadata": {},
     "output_type": "execute_result"
    }
   ],
   "source": [
    "#\n",
    "# Linear1 looks good, lets explore further\n",
    "#\n",
    "pd.set_option('display.float_format', '{:.10f}'.format)\n",
    "pd.set_option('display.max_rows', 999)\n",
    "pd.set_option('display.max_columns', 999)\n",
    "df[ df['model']=='Linear1' ]"
   ]
  },
  {
   "cell_type": "code",
   "execution_count": 20,
   "id": "0229c9ce-f24f-4084-92e2-68688c0cc35c",
   "metadata": {
    "ExecuteTime": {
     "end_time": "2023-10-29T22:55:19.427830Z",
     "start_time": "2023-10-29T22:55:19.423858Z"
    }
   },
   "outputs": [],
   "source": []
  }
 ],
 "metadata": {
  "kernelspec": {
   "display_name": "venv",
   "language": "python",
   "name": "venv"
  },
  "language_info": {
   "codemirror_mode": {
    "name": "ipython",
    "version": 3
   },
   "file_extension": ".py",
   "mimetype": "text/x-python",
   "name": "python",
   "nbconvert_exporter": "python",
   "pygments_lexer": "ipython3",
   "version": "3.11.4"
  }
 },
 "nbformat": 4,
 "nbformat_minor": 5
}
