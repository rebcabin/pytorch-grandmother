{
 "cells": [
  {
   "cell_type": "code",
   "execution_count": null,
   "id": "initial_id",
   "metadata": {
    "collapsed": true
   },
   "outputs": [],
   "source": [
    "import torch\n",
    "import torchvision\n",
    "\n",
    "LR = 0.001\n",
    "DOWNLOAD = True\n",
    "DATA = 'datasets/cifar10/'\n",
    "\n",
    "transform = torchvision.transforms.Compose([\n",
    "  torchvision.transforms.Resize((224, 224)),\n",
    "  torchvision.transforms.ToTensor(),\n",
    "  torchvision.transforms.Normalize((0.5, 0.5, 0.5), (0.5, 0.5, 0.5))\n",
    "])\n",
    "train_dataset = torchvision.datasets.CIFAR10(\n",
    "  root=DATA,\n",
    "  train=True,\n",
    "  transform=transform,\n",
    "  download=DOWNLOAD,\n",
    ")\n",
    "train_loader = torch.utils.data.DataLoader(\n",
    "  dataset=train_dataset,\n",
    "  batch_size=128\n",
    ")\n",
    "\n",
    "model = torchvision.models.resnet50()\n",
    "criterion = torch.nn.CrossEntropyLoss()\n",
    "optimizer = torch.optim.SGD(model.parameters(), lr = LR, momentum=0.9)\n",
    "model.train()\n",
    "\n",
    "#################### code changes ####################\n",
    "import intel_extension_for_pytorch as ipex\n",
    "\n",
    "# Invoke the following API optionally, to apply frontend optimizations\n",
    "model, optimizer = ipex.optimize(model, optimizer=optimizer)\n",
    "\n",
    "compile_model = torch.compile(model, backend=\"ipex\")\n",
    "######################################################\n",
    "\n",
    "for batch_idx, (data, target) in enumerate(train_loader):\n",
    "    optimizer.zero_grad()\n",
    "    output = compile_model(data)\n",
    "    loss = criterion(output, target)\n",
    "    loss.backward()\n",
    "    optimizer.step()"
   ]
  }
 ],
 "metadata": {
  "kernelspec": {
   "display_name": "Python 3",
   "language": "python",
   "name": "python3"
  },
  "language_info": {
   "codemirror_mode": {
    "name": "ipython",
    "version": 2
   },
   "file_extension": ".py",
   "mimetype": "text/x-python",
   "name": "python",
   "nbconvert_exporter": "python",
   "pygments_lexer": "ipython2",
   "version": "2.7.6"
  }
 },
 "nbformat": 4,
 "nbformat_minor": 5
}
