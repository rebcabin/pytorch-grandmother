{
 "cells": [
  {
   "cell_type": "markdown",
   "metadata": {},
   "source": [
    "# Implementing the Simplest Neural Network"
   ]
  },
  {
   "cell_type": "code",
   "execution_count": 1,
   "metadata": {
    "ExecuteTime": {
     "end_time": "2023-11-02T01:33:04.850329Z",
     "start_time": "2023-11-02T01:33:04.546497Z"
    }
   },
   "outputs": [],
   "source": [
    "%matplotlib inline"
   ]
  },
  {
   "cell_type": "code",
   "execution_count": 2,
   "metadata": {
    "ExecuteTime": {
     "end_time": "2023-11-02T01:33:04.995115Z",
     "start_time": "2023-11-02T01:33:04.855379Z"
    }
   },
   "outputs": [],
   "source": [
    "import time\n",
    "import numpy\n",
    "import pandas\n",
    "import matplotlib"
   ]
  },
  {
   "cell_type": "markdown",
   "metadata": {},
   "source": [
    "## Introduction\n",
    "\n",
    "This walk-through of creating a simple neural network to predict outputs given an input is derived from [Neural Networks from Scratch with Python Code and Math in Detail](https://medium.com/towards-artificial-intelligence/building-neural-networks-from-scratch-with-python-code-and-math-in-detail-i-536fae5d7bbf).  I found that walk through had a few errors and some confusing/imprecise language, so I made this notebook to walk me through each step.  This exercise makes most sense if you give that page a skim first, since I assume that you already have a basic understanding of what a neural network _does_.  Here, we describe mathematically how a neural network actually works.\n",
    "\n",
    "We implement a neural network using only numpy, then go on to implement the same network using PyTorch to illustrate what PyTorch is doing underneath its convenient interface.  Via the same random number seeds, our hand-rolled version is mathematically identical to the much more terse PyTorch version.\n",
    "\n",
    "Finally, if you're viewing this in webpage form, you can find the [actual Jupyter Notebook in GitHub](https://github.com/glennklockwood/limelead/blob/master/notebooks/perceptron.ipynb).\n",
    "\n",
    "## Problem statement\n",
    "\n",
    "Here, we build a small linear model (a [perceptron](https://en.wikipedia.org/wiki/Perceptron)) that classifies an input as one thing or another (_binary classification_) via a couple of input parameters.\n",
    "\n",
    "Specifically, we create a model of a simple OR gate with two inputs and one output.  OR gates have the following behavior:\n",
    "\n",
    "1. If both inputs are 0 (off), the output is 0 (off)\n",
    "2. If both inputs are 1 (on), the output is 1 (on)\n",
    "3. If either input is 1 (on), the output is still 1 (on)\n",
    "\n",
    "We want a model, $f(x)$, that takes two inputs ($x$) and returns an output of either 0 or 1 based on the value of those inputs.\n",
    "\n",
    "Let's first build a set of observations that capture this behavior as if we were experimenting with an OR gate ourselves:"
   ]
  },
  {
   "cell_type": "code",
   "execution_count": 3,
   "metadata": {
    "ExecuteTime": {
     "end_time": "2023-11-02T01:37:03.960781Z",
     "start_time": "2023-11-02T01:37:03.924911Z"
    }
   },
   "outputs": [
    {
     "name": "stdout",
     "output_type": "stream",
     "text": [
      "Inputs and true outputs (truth table) are:\n",
      "               input 1  input 2  true output\n",
      "observation #                               \n",
      "0                    0        0            0\n",
      "1                    0        1            1\n",
      "2                    1        0            1\n",
      "3                    1        1            1\n"
     ]
    }
   ],
   "source": [
    "inputs = pandas.DataFrame(\n",
    "    [[0, 0],\n",
    "    [0, 1],\n",
    "    [1, 0],\n",
    "    [1, 1]],\n",
    "    columns=[\"input 1\", \"input 2\"])\n",
    "inputs.index.name = \"observation #\"\n",
    "\n",
    "ground_truth = pandas.Series([0, 1, 1, 1], name=\"true output\", index=inputs.index)\n",
    "\n",
    "print(\"Inputs and true outputs (truth table) are:\")\n",
    "print(pandas.concat((inputs, ground_truth), axis=1))"
   ]
  },
  {
   "cell_type": "markdown",
   "metadata": {},
   "source": [
    "## Defining our model\n",
    "\n",
    "### Linear model\n",
    "\n",
    "The model we're using to predict our output values, $f(x, w)$, is based on a linear model $y(x)$ at its core:\n",
    "\n",
    "$ y(x) = x \\cdot w + b $\n",
    "\n",
    "where\n",
    "\n",
    "- $x$ are our observed inputs (the _independent_ variables)\n",
    "- $w$ are empirical \"weight\" parameters\n",
    "- $b$ is an empirical \"bias\" parameter\n",
    "\n",
    "The magic of this model is in figuring out what values for our empirical parameters, $w$ and $b$, result in the model producing our true outputs for each set of given inputs."
   ]
  },
  {
   "cell_type": "code",
   "execution_count": 4,
   "metadata": {},
   "outputs": [],
   "source": [
    "def linear(x, weights, bias):\n",
    "    \"\"\"Linear model function\n",
    "    \"\"\"\n",
    "    return numpy.dot(x, weights) + bias"
   ]
  },
  {
   "cell_type": "markdown",
   "metadata": {},
   "source": [
    "In our specific case, we have two inputs, so the actual model will be\n",
    "\n",
    "$ y(x_1, x_2) = x_1 w_1 + x_2 w_2 + b $\n",
    "\n",
    "or more generally,\n",
    "\n",
    "$ y(\\mathbf{x}) = \\mathbf{x} \\cdot \\mathbf{w} + b $\n",
    "\n",
    "The lattermost form is the most rigorous, but I may just refer to _vectors_ like $\\mathbf{x}$ and $\\mathbf{w}$ as $x$ and $w$ hereafter to match how they are represented in Python.\n",
    "\n",
    "### Activation function\n",
    "\n",
    "We also have to shove this $y(x)$ through an \"activation function\" $A(x)$ to make so the model can only return values between 0 (off) and 1 (on) though.  We arbitrarily choose a sigmoid function to accomplish this:\n",
    "\n",
    "$ \\displaystyle A(y) = \\frac{1}{1 + e^{-y}} $\n",
    "\n",
    "Which can be defined in Python as follows:"
   ]
  },
  {
   "cell_type": "code",
   "execution_count": 5,
   "metadata": {},
   "outputs": [
    {
     "data": {
      "image/png": "[encoded data removed]",
      "text/plain": [
       "<matplotlib.figure.Figure at 0x7f5a8f37b8>"
      ]
     },
     "metadata": {
      "needs_background": "light"
     },
     "output_type": "display_data"
    }
   ],
   "source": [
    "def sigmoid(x):\n",
    "    \"\"\"Activation function\n",
    "    \"\"\"\n",
    "    return 1.0 / (1.0 + numpy.exp(-x))\n",
    "\n",
    "matplotlib.pyplot.plot(numpy.arange(-10, 10, 0.1), sigmoid(numpy.arange(-10, 10, 0.1)), label=\"sigmoid\")\n",
    "matplotlib.pyplot.grid()\n",
    "matplotlib.pyplot.title(\"Sigmoid activation function\")\n",
    "pass"
   ]
  },
  {
   "cell_type": "markdown",
   "metadata": {},
   "source": [
    "Because we're nesting our linear function in an activation function, $f(x, w)$ looks pretty gnarly if you expand it out:\n",
    "\n",
    "$ f(x) = A(y(x)) = A(x \\cdot w + b) = \\frac{1}{1 + e^{-{x} \\cdot w - b}} $\n",
    "\n",
    "But I like to really think of our model as $ y(x) = x \\cdot w + b $ with some special sauce splashed on top to make sure our output values aren't unbounded.  If we didn't have an activation function, our linear model $y(x)$ would predict values that could go to infinity which\n",
    "\n",
    "1. doesn't represent the reality of the true outputs (we know that they can only vary from 0 to 1)\n",
    "2. will cause our model to not _converge_ (approach the right answer) very well\n",
    "\n",
    "You can confirm this yourself by defining `sigmoid(x)` to just `return x`.  There's a much more rigorous explanation of what the activation function plays in neural networks, so please look it up if you're interested.\n",
    "\n",
    "Now that we have a model in mind, we have to figure out how to _parameterize_ to get values for our weights "
   ]
  },
  {
   "cell_type": "markdown",
   "metadata": {},
   "source": [
    "## Setting up gradient descent\n",
    "\n",
    "We have a choice of model (a linear one wrapped in an activation function), so now we need to figure out what values of our empirical parameters $w$ and $b$ should be to make the model produce outputs that most closely track reality.  To do this, we use [gradient descent](https://en.wikipedia.org/wiki/Gradient_descent).  Its formal definition is\n",
    "\n",
    "$ w_{t+1} = w_{t} - R \\cdot \\frac{d}{dw}E(x, w_{t}) $\n",
    "\n",
    "where $R$ is the \"learning rate,\" an empirical _hyperparameter_.  Whereas $w$ and $b$ are parameters that relate inputs to outputs, $R$ is a hyperparameter because it doesn't relate to what's being modeled as much as it relates to the model itself.\n",
    "\n",
    "$E(x, w)$ is a \"loss function\" that describes how far away our empirical model $f(x, w)$ is from ground truth values $ f_{0} $, and the goal of this whole exercise with gradient descent is to minimize the loss, or make the difference between our model and reality as small as possible.\n",
    "\n",
    "Our first order of business to actually calculate some numbers and evolve our model is to define some starting values of our empirical parameters: weights, bias, and learning rate.  Since our inputs $x$ are actually an array, $w$ must also be an array with one value for each of our input variables in $x$:"
   ]
  },
  {
   "cell_type": "code",
   "execution_count": 6,
   "metadata": {},
   "outputs": [
    {
     "name": "stdout",
     "output_type": "stream",
     "text": [
      "Setting initial weights to random values.\n",
      "           weight\n",
      "input 1  0.417022\n",
      "input 2  0.720324\n",
      "Setting starting bias to a random value: 0.000114\n"
     ]
    }
   ],
   "source": [
    "numpy.random.seed(seed=1)\n",
    "print(\"Setting initial weights to random values.\")\n",
    "weights = numpy.random.rand(inputs.shape[1], 1)\n",
    "\n",
    "print(pandas.DataFrame(weights, index=inputs.columns, columns=[\"weight\"]))\n",
    "\n",
    "bias = numpy.random.rand(1)[0]\n",
    "print(\"Setting starting bias to a random value: {:4f}\".format(bias))"
   ]
  },
  {
   "cell_type": "markdown",
   "metadata": {},
   "source": [
    "Our bias parameter $b$ and learning rate (hyper)parameter $R$ are both scalar values.\n",
    "\n",
    "We can set the bias to some random value because gradient descent will find its optimal value for us.\n",
    "\n",
    "Learning rate is a constant that we set--it needs to be small enough for the interative method to not go haywire by skipping around too much between successive iterations, but not so small as to take a gazillion iterations to approach the optimal weights."
   ]
  },
  {
   "cell_type": "code",
   "execution_count": 7,
   "metadata": {},
   "outputs": [
    {
     "name": "stdout",
     "output_type": "stream",
     "text": [
      "Setting learning rate to 0.05 based on prior experience.\n"
     ]
    }
   ],
   "source": [
    "learning_rate = 0.05\n",
    "print(\"Setting learning rate to {} based on prior experience.\".format(learning_rate))"
   ]
  },
  {
   "cell_type": "markdown",
   "metadata": {},
   "source": [
    "## Applying gradient descent\n",
    "\n",
    "How do we actually _solve_ our gradient descent equation, $ w_{t+1} = w_{t} - R \\cdot \\frac{d}{dw}E(x, w_{t}) $?  That is, how do we train our model?  Well, we know the following:\n",
    "\n",
    "- $w_{t}$:  we randomly defined them above\n",
    "- $ y(\\mathbf{x}) = \\mathbf{x} \\cdot \\mathbf{w} + b  $\n",
    "- $ f(y) = \\frac{1}{1+e^{-y}}$\n",
    "- _learning rate_ $R = 0.05$\n",
    "\n",
    "So we just need to figure out what $\\frac{dE}{dw}$ is--or how our _loss function_ varies as our _weights_ vary for a given set of input values $x$.\n",
    "\n",
    "We can pretty arbitrarily define our _loss function_.  This form seems to capture the right idea:\n",
    "\n",
    "$ E = abs \\left ( f_{0} - f \\right ) $\n",
    "\n",
    "As the difference between our predicted $f$ and ground truth outputs $f_{0}$ get bigger, our error gets bigger.  Easy.\n",
    "\n",
    "Then we break apart $\\frac{\\partial E}{\\partial w}$ using the chain rule:\n",
    "\n",
    "$ \\displaystyle \\frac{\\partial E}{\\partial w} =\n",
    "        \\frac{\\partial E}{\\partial f}\n",
    "  \\cdot \\frac{\\partial f}{\\partial y}\n",
    "  \\cdot \\frac{\\partial y}{\\partial w} $\n",
    "\n",
    "The derivations of these three components are pretty straightforward based on our definitions of $y(\\mathbf{x})$, $f(y)$, and $E$ above--apply your college calculus to derive them yourself, or just use Wolfram Alpha!  They come out to be:\n",
    "\n",
    "1. $ \\frac{\\partial E}{\\partial f} = \\frac{abs \\left ( f - f_{0} \\right )}{f - f_{0}} $\n",
    "2. $ \\frac{\\partial f}{\\partial y} = f \\left ( 1 - f \\right ) $\n",
    "3. $ \\frac{\\partial y}{\\partial w} = x_{0} $\n",
    "\n",
    "With this, we can just calculate $w_{t}$ for $t \\rightarrow \\infty$ using the gradient descent formula above to approach the optimal set of weights that minimize our loss function and thereby produce a model that approximates reality.  So as not to spend infinite time calculating for $t \\rightarrow \\infty$, we choose $t \\rightarrow 10000$:"
   ]
  },
  {
   "cell_type": "code",
   "execution_count": 8,
   "metadata": {},
   "outputs": [],
   "source": [
    "NUM_ITERATIONS = 10000"
   ]
  },
  {
   "cell_type": "markdown",
   "metadata": {},
   "source": [
    "Then start the gradient descent process to slowly nudge $w$ and $b$ towards optimal values!"
   ]
  },
  {
   "cell_type": "code",
   "execution_count": 9,
   "metadata": {},
   "outputs": [
    {
     "name": "stdout",
     "output_type": "stream",
     "text": [
      "error at step     0:   1.47e+00\n",
      "error at step  1000:   2.33e-01\n",
      "error at step  2000:   1.09e-01\n",
      "error at step  3000:   6.98e-02\n",
      "error at step  4000:   5.10e-02\n",
      "error at step  5000:   4.00e-02\n",
      "error at step  6000:   3.29e-02\n",
      "error at step  7000:   2.79e-02\n",
      "error at step  8000:   2.43e-02\n",
      "error at step  9000:   2.14e-02\n",
      "Final weights: [9.98578506 9.98589032]\n",
      "Final bias:    -4.52752860008788\n",
      "10000 iterations took 1.9 seconds\n"
     ]
    }
   ],
   "source": [
    "# convert dataframe bits into arrays for processing\n",
    "inputs_array = inputs.to_numpy()\n",
    "truth_array = ground_truth.to_numpy().reshape(-1, 1)\n",
    "\n",
    "x = inputs_array\n",
    "t0 = time.time()\n",
    "for i in range(NUM_ITERATIONS):\n",
    "    y = linear(x, weights, bias)\n",
    "    f = sigmoid(y)\n",
    "    \n",
    "    error = numpy.abs(f - truth_array)\n",
    "    \n",
    "    # calculate out partial derivatives for each input\n",
    "    dE_df = error/(f - truth_array)\n",
    "    df_dy = sigmoid(y) * (1.0 - sigmoid(y))\n",
    "    dy_dw = x\n",
    "    dE_dy = dE_df * df_dy\n",
    "    dE_dw = numpy.dot(dy_dw.T, dE_dy)  # dy_dw = x\n",
    "\n",
    "    # update weights and biases - the error is the sum of error over each input\n",
    "    weights -= learning_rate * dE_dw\n",
    "    bias -= learning_rate * dE_dy.sum()\n",
    "\n",
    "    if i % (NUM_ITERATIONS / 10) == 0:\n",
    "        print(\"error at step {:5d}: {:10.2e}\".format(i, error.sum()))\n",
    "\n",
    "print(\"Final weights: {}\".format(weights.flatten()))\n",
    "print(\"Final bias:    {}\".format(bias))\n",
    "print(\"{:d} iterations took {:.1f} seconds\".format(NUM_ITERATIONS, time.time() - t0))"
   ]
  },
  {
   "cell_type": "markdown",
   "metadata": {},
   "source": [
    "We now have an optimal set of weights $\\mathbf{w}$.  To make predictions using these weights, we just run our inputs through $ f(x) = A(y(\\mathbf{x})) = A(\\mathbf{x} \\cdot \\mathbf{w} + b)$.\n",
    "\n",
    "## Predicting outputs\n",
    "\n",
    "With our set of weights and our $f(x)$, we are ready to begin predicting outputs for a set of inputs--inferencing."
   ]
  },
  {
   "cell_type": "code",
   "execution_count": 10,
   "metadata": {},
   "outputs": [
    {
     "name": "stdout",
     "output_type": "stream",
     "text": [
      "               predicted output\n",
      "observation #                  \n",
      "0                      0.010692\n",
      "1                      0.995758\n",
      "2                      0.995757\n",
      "3                      1.000000\n"
     ]
    }
   ],
   "source": [
    "predicted_output = sigmoid(numpy.dot(x, weights) + bias)\n",
    "predicted_output = pandas.DataFrame(\n",
    "    predicted_output,\n",
    "    columns=[\"predicted output\"],\n",
    "    index=inputs.index)\n",
    "\n",
    "print(predicted_output)"
   ]
  },
  {
   "cell_type": "markdown",
   "metadata": {},
   "source": [
    "and we strap this on to our truth table to see how we did compared to the true outputs:"
   ]
  },
  {
   "cell_type": "code",
   "execution_count": 11,
   "metadata": {},
   "outputs": [
    {
     "name": "stdout",
     "output_type": "stream",
     "text": [
      "               input 1  input 2  true output  predicted output\n",
      "observation #                                                 \n",
      "0                    0        0            0          0.010692\n",
      "1                    0        1            1          0.995758\n",
      "2                    1        0            1          0.995757\n",
      "3                    1        1            1          1.000000\n"
     ]
    }
   ],
   "source": [
    "print(pandas.concat((\n",
    "    inputs,\n",
    "    ground_truth,\n",
    "    predicted_output),\n",
    "    axis=1))"
   ]
  },
  {
   "cell_type": "markdown",
   "metadata": {},
   "source": [
    "## Implementing our model in PyTorch\n",
    "\n",
    "We implemented the above linear model using numpy and some hand-calculated derivatives to iterate through the gradient descent algorithm.  Higher-level frameworks like PyTorch simplify this process by providing canned versions of these operations that allow us to\n",
    "\n",
    "1. more quickly swap algorithms and functions in and out to see the effects of changing our activation function, loss function, and other hyperparameters\n",
    "2. automatically calculate derivatives of our loss function with respect to different variables for us, obviating the need to do pen-and-paper calculus to derive the correct values to feed into gradient descent\n",
    "3. easily offload these processes to accelerators like GPUs with only a few extra lines of code\n",
    "\n",
    "Here, let's use the PyTorch framework."
   ]
  },
  {
   "cell_type": "code",
   "execution_count": 12,
   "metadata": {},
   "outputs": [],
   "source": [
    "import torch"
   ]
  },
  {
   "cell_type": "markdown",
   "metadata": {},
   "source": [
    "We'll implement the same function which is a linear function at its core:\n",
    "\n",
    "$ y(\\mathbf{x}) = \\mathbf{x} \\cdot \\mathbf{w} + b $\n",
    "\n",
    "which is then wrapped in our sigmoid function:\n",
    "\n",
    "$ A(x) = \\frac{1}{1 + e^{-x}} $\n",
    "\n",
    "which means\n",
    "\n",
    "$ f(x) = A(y(x)) $\n",
    "\n",
    "Instead of defining Python functions for $y(x)$ and $A(y)$ (as we did above with `linear(x, weights, bias)` and `sigmoid(x)`, we can assemble the model using PyTorch using canned versions of these functions:"
   ]
  },
  {
   "cell_type": "code",
   "execution_count": 13,
   "metadata": {},
   "outputs": [],
   "source": [
    "model = torch.nn.Sequential(\n",
    "    torch.nn.Linear(inputs.shape[1], 1),\n",
    "    torch.nn.Sigmoid()\n",
    ")"
   ]
  },
  {
   "cell_type": "markdown",
   "metadata": {},
   "source": [
    "We use the `torch.nn.Sequential` _container_ to define a model that simply feeds the output of the first function (`Linear()`) into the second (`Sigmoid()`) to produce $A(y(x))$.\n",
    "\n",
    "Our $y(x)$ linear model is implemented in PyTorch as `torch.nn.Linear(num_inputs, num_outputs)`.\n",
    "\n",
    "Similarly, the sigmoid function is provided by PyTorch as `torch.nn.Sigmoid()`.  We can visually confirm that the two functions produce the same output:"
   ]
  },
  {
   "cell_type": "code",
   "execution_count": 14,
   "metadata": {},
   "outputs": [
    {
     "data": {
      "image/png": "[encoded data removed]",
      "text/plain": [
       "<matplotlib.figure.Figure at 0x7f03e1e908>"
      ]
     },
     "metadata": {
      "needs_background": "light"
     },
     "output_type": "display_data"
    }
   ],
   "source": [
    "x = numpy.arange(-10, 10, 0.1)\n",
    "matplotlib.pyplot.plot(x, torch.nn.Sigmoid()(torch.from_numpy(x)).detach().numpy(), label=\"PyTorch Sigmoid\")\n",
    "matplotlib.pyplot.scatter(x[::10], sigmoid(x[::10]), color='C1', label=\"our Sigmoid()\")\n",
    "matplotlib.pyplot.grid()\n",
    "matplotlib.pyplot.legend()\n",
    "matplotlib.pyplot.title(\"torch.nn.Sigmoid\")\n",
    "pass"
   ]
  },
  {
   "cell_type": "markdown",
   "metadata": {},
   "source": [
    "Just as before, we also set initial weights and biases for the linear part of our model.  This isn't strictly necessary with PyTorch since it will automatically initialize them to random values, but we initialize our PyTorch model with the same weights and biases as our hand-rolled version so that we can compare the gradient descent processes and make sure we are getting numerically identical results and behavior."
   ]
  },
  {
   "cell_type": "code",
   "execution_count": 15,
   "metadata": {},
   "outputs": [
    {
     "name": "stdout",
     "output_type": "stream",
     "text": [
      "Starting weights: tensor([0.4170, 0.7203], dtype=torch.float64, requires_grad=True)\n",
      "Starting bias: tensor([0.0001], dtype=torch.float64, requires_grad=True)\n"
     ]
    }
   ],
   "source": [
    "numpy.random.seed(seed=1) # use same initial seed as before\n",
    "with torch.no_grad():\n",
    "    # torch.rand() is faster, but we use numpy to re-use the same random starting weights/biases\n",
    "    model[0].weight = torch.nn.Parameter(torch.from_numpy(numpy.random.rand(1, inputs.shape[1])))\n",
    "    print(\"Starting weights: {}\".format(model[0].weight.flatten()))\n",
    "    model[0].bias = torch.nn.Parameter(torch.from_numpy(numpy.random.rand(1, 1)))\n",
    "    print(\"Starting bias: {}\".format(model[0].bias.flatten()))"
   ]
  },
  {
   "cell_type": "markdown",
   "metadata": {},
   "source": [
    "With our model defined and our initial weights and biases set, we can apply gradient descent.  A couple of notes:\n",
    "\n",
    "1. We have to convert our numpy array into PyTorch tensors.  They're functionally equivalent, but tensors have extra magic that allows PyTorch to track enough information about them to calculate gradients of them on demand.\n",
    "\n",
    "2. Our simple loss function is provided by PyTorch as `torch.nn.L1Loss()` which we provide here.\n",
    "\n",
    "3. We use `torch.optim.SGD()` as our _optimizer_ - this implements gradient descent as defined earlier ($ w_{t+1} = w_{t} - R \\cdot \\frac{d}{dw}E(x, w_{t}) $).  It actually implements _stochastic gradient descent_, but we aren't using the extra SGD parameters, and we are feeding it all of our inputs at once which renders it numerically identical to standard gradient descent.\n",
    "\n",
    "4. By using PyTorch tensors as inputs and ouputs to our loss function, we get not only the error as calculated based on the weights and bias at each step, but we can call the `backward()` method on that error tensor to calculate the derivatives of this loss function with respect to the weights and biases.  We don't have to do any calculus by hand!\n",
    "\n",
    "This last point is probably the most important thing PyTorch gives us to simplify the process of training model by implicitly tracking everything needed to calculate the gradient.  This has the downside that PyTorch is implicitly modifying variables behind the scenes without explicitly telling us; specifically, `backward()` not only calculates gradients, it updates parts of our model to store those gradients."
   ]
  },
  {
   "cell_type": "code",
   "execution_count": 16,
   "metadata": {},
   "outputs": [
    {
     "name": "stdout",
     "output_type": "stream",
     "text": [
      "error at step     0:   1.47e+00\n",
      "error at step  1000:   2.33e-01\n",
      "error at step  2000:   1.09e-01\n",
      "error at step  3000:   6.98e-02\n",
      "error at step  4000:   5.10e-02\n",
      "error at step  5000:   4.00e-02\n",
      "error at step  6000:   3.29e-02\n",
      "error at step  7000:   2.79e-02\n",
      "error at step  8000:   2.43e-02\n",
      "error at step  9000:   2.14e-02\n",
      "Final weights: [9.98578506 9.98589032]\n",
      "Final bias:    -4.52752860008788\n",
      "10000 iterations took 8.6 seconds\n"
     ]
    }
   ],
   "source": [
    "# pytorch is more sensitive about types, so we explicitly cast our integer input arrays as float64\n",
    "inputs_tensor = torch.from_numpy(inputs.to_numpy(dtype=numpy.float64))\n",
    "truth_tensor = torch.from_numpy(ground_truth.to_numpy(dtype=numpy.float64).reshape(-1, 1))\n",
    "\n",
    "# use PyTorch's implementation of our loss = abs(f0 - f)\n",
    "loss = torch.nn.L1Loss(reduction='sum')\n",
    "\n",
    "# use PyTorch's implementation of gradient descent\n",
    "optimizer = torch.optim.SGD(model.parameters(), lr=learning_rate)\n",
    "\n",
    "model.train()\n",
    "x = inputs_tensor\n",
    "t0 = time.time()\n",
    "for i in range(NUM_ITERATIONS):\n",
    "    f = model(x)\n",
    "\n",
    "    error = loss(f, truth_tensor)\n",
    "\n",
    "    # erase memory of gradients at previous step\n",
    "    optimizer.zero_grad()\n",
    "\n",
    "    # compute gradient of loss function\n",
    "    error.backward()\n",
    "\n",
    "    # use computed gradient to update weights and bias\n",
    "    optimizer.step()\n",
    "\n",
    "    if i % (NUM_ITERATIONS / 10) == 0:\n",
    "        print(\"error at step {:5d}: {:10.2e}\".format(i, error.sum()))\n",
    "\n",
    "print(\"Final weights: {}\".format(next(model.parameters()).detach().numpy().flatten()))\n",
    "print(\"Final bias:    {}\".format(list(model.parameters())[-1].item()))\n",
    "print(\"{:d} iterations took {:.1f} seconds\".format(NUM_ITERATIONS, time.time() - t0))"
   ]
  },
  {
   "cell_type": "markdown",
   "metadata": {},
   "source": [
    "Because of the implicit changes triggered by this _autograd_ functionality, we have to be _explicit_ when we don't want it to kick in by wrapping such tensor operations in `with torch.no_grad():`.  PyTorch's builtin gradient descent \"optimizer\" that we use takes care of this for us in this case.  Exactly how PyTorch's _autograd_ functionality works is illustrated very well in [A Gentle Introduction to torch.autograd](https://pytorch.org/tutorials/beginner/blitz/autograd_tutorial.html).\n",
    "\n",
    "Relatedly, we also explicitly set the model to be in training mode (`model.train()`) before training, then turn it off before inference to prevent inference from unintentionally changing our model."
   ]
  },
  {
   "cell_type": "code",
   "execution_count": 17,
   "metadata": {},
   "outputs": [
    {
     "data": {
      "text/plain": [
       "Sequential(\n",
       "  (0): Linear(in_features=2, out_features=1, bias=True)\n",
       "  (1): Sigmoid()\n",
       ")"
      ]
     },
     "execution_count": 17,
     "metadata": {},
     "output_type": "execute_result"
    }
   ],
   "source": [
    "model.eval()"
   ]
  },
  {
   "cell_type": "markdown",
   "metadata": {},
   "source": [
    "Now with our trained model, we can begin inferencing just as we did before, and we see that our predicted outputs are identical to our hand-rolled model before."
   ]
  },
  {
   "cell_type": "code",
   "execution_count": 18,
   "metadata": {},
   "outputs": [
    {
     "name": "stdout",
     "output_type": "stream",
     "text": [
      "               input 1  input 2  true output  predicted output\n",
      "observation #                                                 \n",
      "0                    0        0            0          0.010692\n",
      "1                    0        1            1          0.995758\n",
      "2                    1        0            1          0.995757\n",
      "3                    1        1            1          1.000000\n"
     ]
    }
   ],
   "source": [
    "predicted_output = model(inputs_tensor).detach().numpy()\n",
    "predicted_output = pandas.DataFrame(\n",
    "    predicted_output,\n",
    "    columns=[\"predicted output\"],\n",
    "    index=inputs.index)\n",
    "\n",
    "print(pandas.concat((\n",
    "    inputs,\n",
    "    ground_truth,\n",
    "    predicted_output),\n",
    "    axis=1))"
   ]
  },
  {
   "cell_type": "markdown",
   "metadata": {},
   "source": [
    "## Bonus: Training on a GPU\n",
    "\n",
    "Our PyTorch implementation took a _lot_ longer than our hand-rolled implementation because the relative cost of training and evaluating our model was low compared to the overheads of PyTorch's automatic differentiation.  However PyTorch also greatly simplifies porting models to a GPU.  If you have a GPU, you can try running our PyTorch version of the model on it by adding a few extra lines.\n",
    "\n",
    "First define our GPU."
   ]
  },
  {
   "cell_type": "code",
   "execution_count": 19,
   "metadata": {},
   "outputs": [],
   "source": [
    "device = torch.device('cuda')"
   ]
  },
  {
   "cell_type": "markdown",
   "metadata": {},
   "source": [
    "Nothing special as far as initializing weights and defining our loss and optimizer functions."
   ]
  },
  {
   "cell_type": "code",
   "execution_count": 20,
   "metadata": {},
   "outputs": [
    {
     "name": "stdout",
     "output_type": "stream",
     "text": [
      "Starting weights: tensor([0.4170, 0.7203], dtype=torch.float64, requires_grad=True)\n",
      "Starting bias: tensor([0.0001], dtype=torch.float64, requires_grad=True)\n"
     ]
    }
   ],
   "source": [
    "# reinitialize weights\n",
    "numpy.random.seed(seed=1)\n",
    "with torch.no_grad():\n",
    "    model[0].weight = torch.nn.Parameter(torch.from_numpy(numpy.random.rand(1, inputs.shape[1])))\n",
    "    print(\"Starting weights: {}\".format(model[0].weight.flatten()))\n",
    "    model[0].bias = torch.nn.Parameter(torch.from_numpy(numpy.random.rand(1, 1)))\n",
    "    print(\"Starting bias: {}\".format(model[0].bias.flatten()))\n",
    "\n",
    "# define our loss function and optimizer\n",
    "loss = torch.nn.L1Loss(reduction='sum')\n",
    "optimizer = torch.optim.SGD(model.parameters(), lr=learning_rate)"
   ]
  },
  {
   "cell_type": "markdown",
   "metadata": {},
   "source": [
    "We just have to make sure to send our model and input tensors to the GPU before we begin.  Everything else remains as it was, and all calls to our model will execute on the GPU since that's where we copied it."
   ]
  },
  {
   "cell_type": "code",
   "execution_count": 21,
   "metadata": {},
   "outputs": [
    {
     "name": "stdout",
     "output_type": "stream",
     "text": [
      "error at step     0:   1.47e+00\n",
      "error at step  1000:   2.33e-01\n",
      "error at step  2000:   1.09e-01\n",
      "error at step  3000:   6.98e-02\n",
      "error at step  4000:   5.10e-02\n",
      "error at step  5000:   4.00e-02\n",
      "error at step  6000:   3.29e-02\n",
      "error at step  7000:   2.79e-02\n",
      "error at step  8000:   2.43e-02\n",
      "error at step  9000:   2.14e-02\n",
      "Final weights: [9.98578506 9.98589032]\n",
      "Final bias:    -4.52752860008788\n",
      "10000 iterations took 23.1 seconds\n"
     ]
    }
   ],
   "source": [
    "# send everything to the GPU!\n",
    "model = model.to(device)\n",
    "inputs_tensor = torch.from_numpy(inputs.to_numpy(dtype=numpy.float64)).to(device)\n",
    "truth_tensor = torch.from_numpy(ground_truth.to_numpy(dtype=numpy.float64).reshape(-1, 1)).to(device)\n",
    "\n",
    "model.train()\n",
    "x = inputs_tensor\n",
    "t0 = time.time()\n",
    "for i in range(NUM_ITERATIONS):\n",
    "    f = model(x)\n",
    "    error = loss(f, truth_tensor)\n",
    "    optimizer.zero_grad()\n",
    "    error.backward()\n",
    "    optimizer.step()\n",
    "    if i % (NUM_ITERATIONS / 10) == 0:\n",
    "        print(\"error at step {:5d}: {:10.2e}\".format(i, error.sum()))\n",
    "\n",
    "# get our model back from the GPU so we can manipulate and print it from the CPU\n",
    "model = model.cpu()\n",
    "print(\"Final weights: {}\".format(next(model.parameters()).detach().numpy().flatten()))\n",
    "print(\"Final bias:    {}\".format(list(model.parameters())[-1].item()))\n",
    "print(\"{:d} iterations took {:.1f} seconds\".format(NUM_ITERATIONS, time.time() - t0))"
   ]
  },
  {
   "cell_type": "markdown",
   "metadata": {},
   "source": [
    "You may notice that this took _even longer_ on the GPU--again, because this is such an algorithmically simple problem, the high-throughput capability of the GPU isn't able to shine."
   ]
  }
 ],
 "metadata": {
  "kernelspec": {
   "name": "venv",
   "language": "python",
   "display_name": "venv"
  },
  "language_info": {
   "codemirror_mode": {
    "name": "ipython",
    "version": 3
   },
   "file_extension": ".py",
   "mimetype": "text/x-python",
   "name": "python",
   "nbconvert_exporter": "python",
   "pygments_lexer": "ipython3",
   "version": "3.6.9"
  }
 },
 "nbformat": 4,
 "nbformat_minor": 4
}
